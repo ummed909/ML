{
 "cells": [
  {
   "cell_type": "code",
   "execution_count": 26,
   "id": "4d72abb8-9c92-4a1c-8796-4c2112f4cc3e",
   "metadata": {},
   "outputs": [],
   "source": [
    "import pandas as pd"
   ]
  },
  {
   "cell_type": "code",
   "execution_count": 27,
   "id": "91496a68-f661-413e-844e-1054ec329917",
   "metadata": {},
   "outputs": [
    {
     "name": "stdout",
     "output_type": "stream",
     "text": [
      "   user_id  age gender     occupation zip_code\n",
      "0        1   24      M     technician    85711\n",
      "1        2   53      F          other    94043\n",
      "2        3   23      M         writer    32067\n",
      "3        4   24      M     technician    43537\n",
      "4        5   33      F          other    15213\n",
      "5        6   42      M      executive    98101\n",
      "6        7   57      M  administrator    91344\n"
     ]
    }
   ],
   "source": [
    "users = pd.read_csv(\"https://raw.githubusercontent.com/justmarkham/DAT8/master/data/u.user\",sep=\"|\")\n",
    "print(users.head(7))"
   ]
  },
  {
   "cell_type": "code",
   "execution_count": 8,
   "id": "b7cc3cb1-c6ea-4723-b97f-f26eb2b78faf",
   "metadata": {},
   "outputs": [
    {
     "name": "stdout",
     "output_type": "stream",
     "text": [
      "<class 'pandas.core.frame.DataFrame'>\n",
      "RangeIndex: 943 entries, 0 to 942\n",
      "Data columns (total 5 columns):\n",
      " #   Column      Non-Null Count  Dtype \n",
      "---  ------      --------------  ----- \n",
      " 0   user_id     943 non-null    int64 \n",
      " 1   age         943 non-null    int64 \n",
      " 2   gender      943 non-null    object\n",
      " 3   occupation  943 non-null    object\n",
      " 4   zip_code    943 non-null    object\n",
      "dtypes: int64(2), object(3)\n",
      "memory usage: 37.0+ KB\n"
     ]
    }
   ],
   "source": [
    "users.info()"
   ]
  },
  {
   "cell_type": "code",
   "execution_count": 9,
   "id": "8021111d-97a5-46b9-9a9b-32b58173ea96",
   "metadata": {},
   "outputs": [
    {
     "data": {
      "text/plain": [
       "Index(['user_id', 'age', 'gender', 'occupation', 'zip_code'], dtype='object')"
      ]
     },
     "execution_count": 9,
     "metadata": {},
     "output_type": "execute_result"
    }
   ],
   "source": [
    "users.columns"
   ]
  },
  {
   "cell_type": "code",
   "execution_count": 10,
   "id": "ee83f0ab-3571-4879-bef0-daec5d02c19b",
   "metadata": {},
   "outputs": [
    {
     "data": {
      "text/plain": [
       "RangeIndex(start=0, stop=943, step=1)"
      ]
     },
     "execution_count": 10,
     "metadata": {},
     "output_type": "execute_result"
    }
   ],
   "source": [
    "users.index"
   ]
  },
  {
   "cell_type": "code",
   "execution_count": 13,
   "id": "d8804f90-3577-4cbc-a764-071f2fb7716e",
   "metadata": {},
   "outputs": [
    {
     "data": {
      "text/plain": [
       "user_id        int64\n",
       "age            int64\n",
       "gender        object\n",
       "occupation    object\n",
       "zip_code      object\n",
       "dtype: object"
      ]
     },
     "execution_count": 13,
     "metadata": {},
     "output_type": "execute_result"
    }
   ],
   "source": [
    "users.dtypes"
   ]
  },
  {
   "cell_type": "markdown",
   "id": "1783136c-87f8-48bc-97ca-153f99f2632d",
   "metadata": {},
   "source": [
    "### 1. Print only the occupation column"
   ]
  },
  {
   "cell_type": "code",
   "execution_count": 14,
   "id": "631deae1-10d4-489a-9188-01a4262927fe",
   "metadata": {},
   "outputs": [
    {
     "data": {
      "text/plain": [
       "0         technician\n",
       "1              other\n",
       "2             writer\n",
       "3         technician\n",
       "4              other\n",
       "           ...      \n",
       "938          student\n",
       "939    administrator\n",
       "940          student\n",
       "941        librarian\n",
       "942          student\n",
       "Name: occupation, Length: 943, dtype: object"
      ]
     },
     "execution_count": 14,
     "metadata": {},
     "output_type": "execute_result"
    }
   ],
   "source": [
    "users.occupation"
   ]
  },
  {
   "cell_type": "markdown",
   "id": "562b82e1-6377-4f56-af17-5e64d3c6bbde",
   "metadata": {},
   "source": [
    "### 2. How many different occupations are in this dataset?"
   ]
  },
  {
   "cell_type": "code",
   "execution_count": 20,
   "id": "51f82a6c-3409-4991-97d6-7c7e53d035cd",
   "metadata": {},
   "outputs": [
    {
     "data": {
      "text/plain": [
       "(21, 21)"
      ]
     },
     "execution_count": 20,
     "metadata": {},
     "output_type": "execute_result"
    }
   ],
   "source": [
    "# solution 1\n",
    "s1=users[\"occupation\"].value_counts().count()\n",
    "\n",
    "# solution 2\n",
    "s2=len(pd.unique(users.occupation))\n",
    "s1, s2"
   ]
  },
  {
   "cell_type": "markdown",
   "id": "61ee0fc6-6ff2-46de-809e-cc049ec03bfe",
   "metadata": {},
   "source": [
    "### 3. What is the most frequent occupation "
   ]
  },
  {
   "cell_type": "code",
   "execution_count": 44,
   "id": "1e4ccf31-0901-417b-b32c-3c6f3275d3ca",
   "metadata": {},
   "outputs": [
    {
     "data": {
      "text/plain": [
       "'student'"
      ]
     },
     "execution_count": 44,
     "metadata": {},
     "output_type": "execute_result"
    }
   ],
   "source": [
    "most_frequent_occupation = users.occupation.value_counts()\n",
    "obj = most_frequent_occupation.head(1)\n",
    "obj.index[0]"
   ]
  },
  {
   "cell_type": "markdown",
   "id": "0ddda461-c7ff-43e8-87f3-7fb7488d1d0c",
   "metadata": {},
   "source": [
    "### 4.Summarize the DataFrame. "
   ]
  },
  {
   "cell_type": "code",
   "execution_count": 45,
   "id": "ef3a0cf5-163c-4b82-aea0-dcce230e425a",
   "metadata": {},
   "outputs": [
    {
     "data": {
      "text/html": [
       "<div>\n",
       "<style scoped>\n",
       "    .dataframe tbody tr th:only-of-type {\n",
       "        vertical-align: middle;\n",
       "    }\n",
       "\n",
       "    .dataframe tbody tr th {\n",
       "        vertical-align: top;\n",
       "    }\n",
       "\n",
       "    .dataframe thead th {\n",
       "        text-align: right;\n",
       "    }\n",
       "</style>\n",
       "<table border=\"1\" class=\"dataframe\">\n",
       "  <thead>\n",
       "    <tr style=\"text-align: right;\">\n",
       "      <th></th>\n",
       "      <th>user_id</th>\n",
       "      <th>age</th>\n",
       "    </tr>\n",
       "  </thead>\n",
       "  <tbody>\n",
       "    <tr>\n",
       "      <th>count</th>\n",
       "      <td>943.000000</td>\n",
       "      <td>943.000000</td>\n",
       "    </tr>\n",
       "    <tr>\n",
       "      <th>mean</th>\n",
       "      <td>472.000000</td>\n",
       "      <td>34.051962</td>\n",
       "    </tr>\n",
       "    <tr>\n",
       "      <th>std</th>\n",
       "      <td>272.364951</td>\n",
       "      <td>12.192740</td>\n",
       "    </tr>\n",
       "    <tr>\n",
       "      <th>min</th>\n",
       "      <td>1.000000</td>\n",
       "      <td>7.000000</td>\n",
       "    </tr>\n",
       "    <tr>\n",
       "      <th>25%</th>\n",
       "      <td>236.500000</td>\n",
       "      <td>25.000000</td>\n",
       "    </tr>\n",
       "    <tr>\n",
       "      <th>50%</th>\n",
       "      <td>472.000000</td>\n",
       "      <td>31.000000</td>\n",
       "    </tr>\n",
       "    <tr>\n",
       "      <th>75%</th>\n",
       "      <td>707.500000</td>\n",
       "      <td>43.000000</td>\n",
       "    </tr>\n",
       "    <tr>\n",
       "      <th>max</th>\n",
       "      <td>943.000000</td>\n",
       "      <td>73.000000</td>\n",
       "    </tr>\n",
       "  </tbody>\n",
       "</table>\n",
       "</div>"
      ],
      "text/plain": [
       "          user_id         age\n",
       "count  943.000000  943.000000\n",
       "mean   472.000000   34.051962\n",
       "std    272.364951   12.192740\n",
       "min      1.000000    7.000000\n",
       "25%    236.500000   25.000000\n",
       "50%    472.000000   31.000000\n",
       "75%    707.500000   43.000000\n",
       "max    943.000000   73.000000"
      ]
     },
     "execution_count": 45,
     "metadata": {},
     "output_type": "execute_result"
    }
   ],
   "source": [
    "users.describe()"
   ]
  },
  {
   "cell_type": "code",
   "execution_count": 49,
   "id": "764a77ca-3495-4f3b-823b-82346edb6337",
   "metadata": {},
   "outputs": [
    {
     "data": {
      "text/html": [
       "<div>\n",
       "<style scoped>\n",
       "    .dataframe tbody tr th:only-of-type {\n",
       "        vertical-align: middle;\n",
       "    }\n",
       "\n",
       "    .dataframe tbody tr th {\n",
       "        vertical-align: top;\n",
       "    }\n",
       "\n",
       "    .dataframe thead th {\n",
       "        text-align: right;\n",
       "    }\n",
       "</style>\n",
       "<table border=\"1\" class=\"dataframe\">\n",
       "  <thead>\n",
       "    <tr style=\"text-align: right;\">\n",
       "      <th></th>\n",
       "      <th>user_id</th>\n",
       "      <th>age</th>\n",
       "      <th>gender</th>\n",
       "      <th>occupation</th>\n",
       "      <th>zip_code</th>\n",
       "    </tr>\n",
       "  </thead>\n",
       "  <tbody>\n",
       "    <tr>\n",
       "      <th>count</th>\n",
       "      <td>943.000000</td>\n",
       "      <td>943.000000</td>\n",
       "      <td>943</td>\n",
       "      <td>943</td>\n",
       "      <td>943</td>\n",
       "    </tr>\n",
       "    <tr>\n",
       "      <th>unique</th>\n",
       "      <td>NaN</td>\n",
       "      <td>NaN</td>\n",
       "      <td>2</td>\n",
       "      <td>21</td>\n",
       "      <td>795</td>\n",
       "    </tr>\n",
       "    <tr>\n",
       "      <th>top</th>\n",
       "      <td>NaN</td>\n",
       "      <td>NaN</td>\n",
       "      <td>M</td>\n",
       "      <td>student</td>\n",
       "      <td>55414</td>\n",
       "    </tr>\n",
       "    <tr>\n",
       "      <th>freq</th>\n",
       "      <td>NaN</td>\n",
       "      <td>NaN</td>\n",
       "      <td>670</td>\n",
       "      <td>196</td>\n",
       "      <td>9</td>\n",
       "    </tr>\n",
       "    <tr>\n",
       "      <th>mean</th>\n",
       "      <td>472.000000</td>\n",
       "      <td>34.051962</td>\n",
       "      <td>NaN</td>\n",
       "      <td>NaN</td>\n",
       "      <td>NaN</td>\n",
       "    </tr>\n",
       "    <tr>\n",
       "      <th>std</th>\n",
       "      <td>272.364951</td>\n",
       "      <td>12.192740</td>\n",
       "      <td>NaN</td>\n",
       "      <td>NaN</td>\n",
       "      <td>NaN</td>\n",
       "    </tr>\n",
       "    <tr>\n",
       "      <th>min</th>\n",
       "      <td>1.000000</td>\n",
       "      <td>7.000000</td>\n",
       "      <td>NaN</td>\n",
       "      <td>NaN</td>\n",
       "      <td>NaN</td>\n",
       "    </tr>\n",
       "    <tr>\n",
       "      <th>25%</th>\n",
       "      <td>236.500000</td>\n",
       "      <td>25.000000</td>\n",
       "      <td>NaN</td>\n",
       "      <td>NaN</td>\n",
       "      <td>NaN</td>\n",
       "    </tr>\n",
       "    <tr>\n",
       "      <th>50%</th>\n",
       "      <td>472.000000</td>\n",
       "      <td>31.000000</td>\n",
       "      <td>NaN</td>\n",
       "      <td>NaN</td>\n",
       "      <td>NaN</td>\n",
       "    </tr>\n",
       "    <tr>\n",
       "      <th>75%</th>\n",
       "      <td>707.500000</td>\n",
       "      <td>43.000000</td>\n",
       "      <td>NaN</td>\n",
       "      <td>NaN</td>\n",
       "      <td>NaN</td>\n",
       "    </tr>\n",
       "    <tr>\n",
       "      <th>max</th>\n",
       "      <td>943.000000</td>\n",
       "      <td>73.000000</td>\n",
       "      <td>NaN</td>\n",
       "      <td>NaN</td>\n",
       "      <td>NaN</td>\n",
       "    </tr>\n",
       "  </tbody>\n",
       "</table>\n",
       "</div>"
      ],
      "text/plain": [
       "           user_id         age gender occupation zip_code\n",
       "count   943.000000  943.000000    943        943      943\n",
       "unique         NaN         NaN      2         21      795\n",
       "top            NaN         NaN      M    student    55414\n",
       "freq           NaN         NaN    670        196        9\n",
       "mean    472.000000   34.051962    NaN        NaN      NaN\n",
       "std     272.364951   12.192740    NaN        NaN      NaN\n",
       "min       1.000000    7.000000    NaN        NaN      NaN\n",
       "25%     236.500000   25.000000    NaN        NaN      NaN\n",
       "50%     472.000000   31.000000    NaN        NaN      NaN\n",
       "75%     707.500000   43.000000    NaN        NaN      NaN\n",
       "max     943.000000   73.000000    NaN        NaN      NaN"
      ]
     },
     "execution_count": 49,
     "metadata": {},
     "output_type": "execute_result"
    }
   ],
   "source": [
    "# summerize all the columns\n",
    "users.describe(include=\"all\")"
   ]
  },
  {
   "cell_type": "code",
   "execution_count": 50,
   "id": "14870fef-884c-4e07-b349-5f9dabdc79f5",
   "metadata": {},
   "outputs": [
    {
     "data": {
      "text/plain": [
       "count    943.000000\n",
       "mean      34.051962\n",
       "std       12.192740\n",
       "min        7.000000\n",
       "25%       25.000000\n",
       "50%       31.000000\n",
       "75%       43.000000\n",
       "max       73.000000\n",
       "Name: age, dtype: float64"
      ]
     },
     "execution_count": 50,
     "metadata": {},
     "output_type": "execute_result"
    }
   ],
   "source": [
    "# summerize only the single columns\n",
    "users.age.describe()"
   ]
  },
  {
   "cell_type": "markdown",
   "id": "b3378b56-195c-41b4-9336-e0ca7fda3d2f",
   "metadata": {},
   "source": [
    "### 5.What is the age with least occurrence?"
   ]
  },
  {
   "cell_type": "code",
   "execution_count": 52,
   "id": "09ed7148-5c52-4811-b9d5-ff99ddcf9fc5",
   "metadata": {},
   "outputs": [
    {
     "data": {
      "text/plain": [
       "age\n",
       "73    1\n",
       "Name: count, dtype: int64"
      ]
     },
     "execution_count": 52,
     "metadata": {},
     "output_type": "execute_result"
    }
   ],
   "source": [
    "users[\"age\"].value_counts().tail(1)"
   ]
  },
  {
   "cell_type": "code",
   "execution_count": null,
   "id": "554b675b-d563-4ccf-b1f3-ffd7d0ac01cb",
   "metadata": {},
   "outputs": [],
   "source": []
  }
 ],
 "metadata": {
  "kernelspec": {
   "display_name": "Python 3 (ipykernel)",
   "language": "python",
   "name": "python3"
  },
  "language_info": {
   "codemirror_mode": {
    "name": "ipython",
    "version": 3
   },
   "file_extension": ".py",
   "mimetype": "text/x-python",
   "name": "python",
   "nbconvert_exporter": "python",
   "pygments_lexer": "ipython3",
   "version": "3.12.4"
  }
 },
 "nbformat": 4,
 "nbformat_minor": 5
}
